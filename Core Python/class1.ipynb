{
 "cells": [
  {
   "cell_type": "markdown",
   "id": "685934b6-d459-4024-91f9-1f8ba9284a94",
   "metadata": {},
   "source": [
    "Introduction to Python "
   ]
  },
  {
   "cell_type": "markdown",
   "id": "fdc9588d-92b2-45c7-b8fa-42cf0b999f09",
   "metadata": {},
   "source": [
    "2hr--session \r\n",
    "30min--15min\r\n",
    "notes--by the end of session \r\n",
    "\r\n",
    "Introduction to Python \r\n",
    "----------------------\r\n",
    "who designed?\r\n",
    "what is python?\r\n",
    "where to use python?\r\n",
    "why python?\r\n",
    "how to use python?\r\n",
    "--Guido van Rossum \r\n",
    "ABC--project \r\n",
    "\r\n",
    "1989-1991-->python 0.9.0\r\n",
    "feature-Exception handling(errors),functions and core datatype(list,strings and dict) \r\n",
    "\r\n",
    "1994-python 10 \r\n",
    "features-modules(reuse of code)\r\n",
    "new datastructure \"lambda\"\r\n",
    "\r\n",
    "2000-python 2.0 \r\n",
    "feature-garbage collection system (it will help manage memory automatically),\r\n",
    "list comprehensions \r\n",
    "\r\n",
    "2008--python 3.0 \r\n",
    "--better handling of Unicode\r\n",
    "--better redundance \r\n",
    "\r\n",
    "2010--python 3.2\r\n",
    "--very powerfull framework for writing asynchronous\r\n",
    "--connection with web server\r\n",
    "\r\n",
    "2014--python 3.4\r\n",
    "--multiple tasks were simultaneously conducted \r\n",
    "\r\n",
    "2015-python 3.5 \r\n",
    "--\"async\" and \"await\" \r\n",
    "\r\n",
    "2018-python 3.7 \r\n",
    "--boilerplate code can also be included \r\n",
    "\r\n",
    "2020-python 3.10 \r\n",
    "--walrus operator(:=)\r\n",
    "\r\n",
    "2022-python 3.11 \r\n",
    "--performance improvement,debugging easier \r\n",
    "\r\n",
    "what is Python?\r\n",
    "--cross platform programming language(windows,macos etc)\r\n",
    "--it is free and open source \r\n",
    "\r\n",
    "why/where in python?\r\n",
    "--game desinging \r\n",
    "--application \r\n",
    "--prediction(ML,DL,AI)\r\n",
    "--dynamic programming\r\n",
    "--free \r\n",
    "--large community for dealing with error\r\n",
    "--it is very simple or it has very basic syntax \r\n",
    "\r\n",
    "where python?\r\n",
    "--VSC(visual studio code)\r\n",
    "--jupyter \r\n",
    "--PyCharm \r\n",
    "--online compliers \r\n",
    "--idle \r\n",
    "\r\n",
    "https://www.anaconda.com/download/success \r\n",
    "\r\n",
    "Python Keywords and identifers \r\n",
    "------------------------------\r\n",
    "Keywords -->Reserved words in python \r\n",
    "identifers-->\r\n",
    "\r\n",
    "--predefined and special meaning to compiler \r\n",
    "--it canot be used has variable name,function name or any other identifier \r\n",
    "--it is used to define syntax and structure \r\n",
    "--\r\n",
    "\r\n",
    "INTERPRETER AND COMPLIER \r\n",
    "\r\n",
    "INTERPRETER --execute the code line by line(Dynamic)\r\n",
    "COMPLIER-entire code at shot \r\n",
    "\r\n",
    "\r\n",
    "\r\n",
    "\r\n",
    "\r\n",
    "\r\n",
    "\r\n",
    "\r\n",
    "\r\n",
    "Python Keywords and identifers \r\n",
    "------------------------------\r\n",
    "Keywords -->Reserved words in python \r\n",
    "identifers-->Name given to varibles or function \r\n",
    "a=10;\r\n",
    "what is the difference between variable and identifer \r\n",
    "variable--name given to a memory location,this is used to hold the value \r\n",
    "identifers-it is used to idenity an entity uniquenly in a program at the time of exceution\r\n",
    "ex:\r\n",
    "a=10\r\n",
    "\r\n",
    "\r\n",
    "rules for naming N IDENTIFER \r\n",
    "1)it canot be a keyword \r\n",
    "2)they are case sensitive \r\n",
    "a=10\r\n",
    "print(A) \r\n",
    "3)it should always begin with letter or an _\r\n",
    "4)whitespace are not allowed\r\n",
    "5)we canot use special symbols\r\n",
    "keywords \r\n",
    "--predefined and special meaning to compiler \r\n",
    "--it canot be used has variable name,function name or any other identifier \r\n",
    "--it is used to define syntax and structure \r\n",
    "python comments \r\n",
    "---------------\r\n",
    "--it is ignored by the interpreter they meant to follow the programmers \r\n",
    "1)single line comment -- \"#\"\r\n",
    "2)multiline comment -- \"\",'',\"\"\" \r\n",
    "what is the difference between string and multiline comment ?\r\n",
    "\"Assigning values to variable in python\" \r\n",
    "\"=\"\r\n",
    "excelr=\"python\"\r\n",
    "excelr\r\n",
    "\"changing the value of a varible in python \"\r\n",
    "excelr=\"python\"\r\n",
    "excelr\r\n",
    "excelr=\"javascript\"\r\n",
    "excelr\r\n",
    "\"Assinging muliple values to multiple variable\"\r\n",
    "a,b,c=1,2.2,\"akshatha\"\r\n",
    "print(a)\r\n",
    "print(b,c)\r\n",
    "\"Assign the same value to muilple varaibles\" \r\n",
    "a=10\r\n",
    "b=20\r\n",
    "a=b=10\r\n",
    "print(a,b) \r\n",
    "\r\n",
    "constants \r\n",
    "---------\r\n",
    "-A constant is a spcial type of variable whose value cannot be changed \r\n",
    "\r\n",
    "\r\n",
    "\r\n",
    "\r\n",
    "\n",
    "\n",
    "Python Keywords and identifers \n",
    "------------------------------\n",
    "Keywords -->Reserved words in python \n",
    "identifers-->Name given to varibles or function \n",
    "a=10;\n",
    "what is the difference between variable and identifer \n",
    "variable--name given to a memory location,this is used to hold the value \n",
    "identifers-it is used to idenity an entity uniquenly in a program at the time of exceution\n",
    "ex:\n",
    "a=10\n",
    "\n",
    "\n",
    "rules for naming N IDENTIFER \n",
    "1)it canot be a keyword \n",
    "2)they are case sensitive \n",
    "a=10\n",
    "print(A) \n",
    "3)it should always begin with letter or an _\n",
    "4)whitespace are not allowed\n",
    "5)we canot use special symbols\n",
    "keywords \n",
    "--predefined and special meaning to compiler \n",
    "--it canot be used has variable name,function name or any other identifier \n",
    "--it is used to define syntax and structure \n",
    "python comments \n",
    "---------------\n",
    "--it is ignored by the interpreter they meant to follow the programmers \n",
    "1)single line comment -- \"#\"\n",
    "2)multiline comment -- \"\",'',\"\"\" \n",
    "what is the difference between string and multiline comment ?\n",
    "\"Assigning values to variable in python\" \n",
    "\"=\"\n",
    "excelr=\"python\"\n",
    "excelr\n",
    "\"changing the value of a varible in python \"\n",
    "excelr=\"python\"\n",
    "excelr\n",
    "excelr=\"javascript\"\n",
    "excelr\n",
    "\"Assinging muliple values to multiple variable\"\n",
    "a,b,c=1,2.2,\"akshatha\"\n",
    "print(a)\n",
    "print(b,c)\n",
    "\"Assign the same value to muilple varaibles\" \n",
    "a=10\n",
    "b=20\n",
    "a=b=10\n",
    "print(a,b) \n",
    "\n",
    "constants \n",
    "---------\n",
    "-A constant is a spcial type of variable whose value cannot be changed "
   ]
  },
  {
   "cell_type": "code",
   "execution_count": 3,
   "id": "d66479da-fc86-4878-b991-f8d6878016d5",
   "metadata": {},
   "outputs": [
    {
     "name": "stdout",
     "output_type": "stream",
     "text": [
      "['False', 'None', 'True', 'and', 'as', 'assert', 'async', 'await', 'break', 'class', 'continue', 'def', 'del', 'elif', 'else', 'except', 'finally', 'for', 'from', 'global', 'if', 'import', 'in', 'is', 'lambda', 'nonlocal', 'not', 'or', 'pass', 'raise', 'return', 'try', 'while', 'with', 'yield']\n"
     ]
    }
   ],
   "source": [
    "import keyword\n",
    "key=keyword.kwlist \n",
    "print(key)"
   ]
  },
  {
   "cell_type": "code",
   "execution_count": 5,
   "id": "970e53f6-6af5-40a7-af7d-f50db1fc9a17",
   "metadata": {},
   "outputs": [
    {
     "ename": "NameError",
     "evalue": "name 'A' is not defined",
     "output_type": "error",
     "traceback": [
      "\u001b[1;31m---------------------------------------------------------------------------\u001b[0m",
      "\u001b[1;31mNameError\u001b[0m                                 Traceback (most recent call last)",
      "Cell \u001b[1;32mIn[5], line 2\u001b[0m\n\u001b[0;32m      1\u001b[0m a\u001b[38;5;241m=\u001b[39m\u001b[38;5;241m10\u001b[39m\n\u001b[1;32m----> 2\u001b[0m \u001b[38;5;28mprint\u001b[39m(A)\n",
      "\u001b[1;31mNameError\u001b[0m: name 'A' is not defined"
     ]
    }
   ],
   "source": [
    "a=10\n",
    "print(A)"
   ]
  },
  {
   "cell_type": "code",
   "execution_count": 7,
   "id": "362e1dd1-be13-4d7f-bf0c-d3b4476b1f32",
   "metadata": {},
   "outputs": [
    {
     "name": "stdout",
     "output_type": "stream",
     "text": [
      "10\n"
     ]
    }
   ],
   "source": [
    "_1=10\n",
    "print(_1)\n"
   ]
  },
  {
   "cell_type": "code",
   "execution_count": 9,
   "id": "993e55f1-e3b4-42c1-a25b-2a2191f8a7d8",
   "metadata": {},
   "outputs": [
    {
     "ename": "SyntaxError",
     "evalue": "cannot assign to literal here. Maybe you meant '==' instead of '='? (2513911252.py, line 1)",
     "output_type": "error",
     "traceback": [
      "\u001b[1;36m  Cell \u001b[1;32mIn[9], line 1\u001b[1;36m\u001b[0m\n\u001b[1;33m    1=10\u001b[0m\n\u001b[1;37m    ^\u001b[0m\n\u001b[1;31mSyntaxError\u001b[0m\u001b[1;31m:\u001b[0m cannot assign to literal here. Maybe you meant '==' instead of '='?\n"
     ]
    }
   ],
   "source": [
    "1=10\n",
    "print(1)"
   ]
  },
  {
   "cell_type": "code",
   "execution_count": 12,
   "id": "d8ae638e-152d-4a6b-b88d-3a1cc3cf8fc7",
   "metadata": {},
   "outputs": [
    {
     "ename": "IndentationError",
     "evalue": "unexpected indent (1578249604.py, line 2)",
     "output_type": "error",
     "traceback": [
      "\u001b[1;36m  Cell \u001b[1;32mIn[12], line 2\u001b[1;36m\u001b[0m\n\u001b[1;33m    a=10\u001b[0m\n\u001b[1;37m    ^\u001b[0m\n\u001b[1;31mIndentationError\u001b[0m\u001b[1;31m:\u001b[0m unexpected indent\n"
     ]
    }
   ],
   "source": [
    "b=2\n",
    "    a=10\n",
    "print(a)"
   ]
  },
  {
   "cell_type": "code",
   "execution_count": 13,
   "id": "d1d365dc-3e24-4598-9416-474550092de6",
   "metadata": {},
   "outputs": [
    {
     "data": {
      "text/plain": [
       "'print(a)'"
      ]
     },
     "execution_count": 13,
     "metadata": {},
     "output_type": "execute_result"
    }
   ],
   "source": [
    "#a=\"akshatha'\n",
    "\"print(a)\""
   ]
  },
  {
   "cell_type": "code",
   "execution_count": 15,
   "id": "11f20663-50b9-44da-a0ed-0844b67cd963",
   "metadata": {},
   "outputs": [
    {
     "data": {
      "text/plain": [
       "'akshatha'"
      ]
     },
     "execution_count": 15,
     "metadata": {},
     "output_type": "execute_result"
    }
   ],
   "source": [
    "\"akshatha\""
   ]
  },
  {
   "cell_type": "code",
   "execution_count": 18,
   "id": "83a6689f-5fd9-4841-9e16-ee185b9d8533",
   "metadata": {},
   "outputs": [
    {
     "data": {
      "text/plain": [
       "'python'"
      ]
     },
     "execution_count": 18,
     "metadata": {},
     "output_type": "execute_result"
    }
   ],
   "source": [
    "\"Assigning values to variable in python\" \n",
    "\"=\"\n",
    "excelr=\"python\"\n",
    "excelr"
   ]
  },
  {
   "cell_type": "code",
   "execution_count": 20,
   "id": "73e45746-ac3e-410c-ac1f-af46bbb5af93",
   "metadata": {},
   "outputs": [
    {
     "data": {
      "text/plain": [
       "'javascript'"
      ]
     },
     "execution_count": 20,
     "metadata": {},
     "output_type": "execute_result"
    }
   ],
   "source": [
    "\"changing the value of a varible in python \"\n",
    "excelr=\"python\"\n",
    "excelr\n",
    "excelr=\"javascript\"\n",
    "excelr"
   ]
  },
  {
   "cell_type": "code",
   "execution_count": 22,
   "id": "c983c0a2-80b2-457a-9472-a11bf06854ae",
   "metadata": {},
   "outputs": [
    {
     "name": "stdout",
     "output_type": "stream",
     "text": [
      "1\n",
      "2.2 akshatha\n"
     ]
    }
   ],
   "source": [
    "\"Assinging muliple values to multiple variable\"\n",
    "a,b,c=1,2.2,\"akshatha\"\n",
    "print(a)\n",
    "print(b,c)"
   ]
  },
  {
   "cell_type": "code",
   "execution_count": null,
   "id": "6afe6508-94bc-4825-baf7-18bc947d2fc7",
   "metadata": {},
   "outputs": [],
   "source": [
    "\"Assign the same value to muilple varaibles\" \n",
    "a=10\n",
    "b=20\n",
    "a=b=10\n",
    "print(a,b)"
   ]
  },
  {
   "cell_type": "code",
   "execution_count": 24,
   "id": "efbfac57-a1a9-46f9-98f3-b7190ac2cab1",
   "metadata": {},
   "outputs": [
    {
     "name": "stdout",
     "output_type": "stream",
     "text": [
      "9.8\n"
     ]
    }
   ],
   "source": [
    "import constants\n",
    "print(constants.gravity)"
   ]
  }
 ],
 "metadata": {
  "kernelspec": {
   "display_name": "Python 3 (ipykernel)",
   "language": "python",
   "name": "python3"
  },
  "language_info": {
   "codemirror_mode": {
    "name": "ipython",
    "version": 3
   },
   "file_extension": ".py",
   "mimetype": "text/x-python",
   "name": "python",
   "nbconvert_exporter": "python",
   "pygments_lexer": "ipython3",
   "version": "3.12.4"
  }
 },
 "nbformat": 4,
 "nbformat_minor": 5
}
